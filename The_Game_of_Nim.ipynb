{
  "cells": [
    {
      "cell_type": "markdown",
      "metadata": {},
      "source": [
        "## Game of Nim\n",
        "In this Python Notebook we will explore different ways of representing the *Game of Nim** in Python with hopes of extrapolating an optimal strategy to playing the game."
      ]
    },
    {
      "cell_type": "code",
      "execution_count": 757,
      "metadata": {
        "id": "0a8cZmk0jAvd"
      },
      "outputs": [],
      "source": [
        "# import required libraries\n",
        "import random as r\n",
        "from collections import Counter\n",
        "import numpy as np\n",
        "import copy"
      ]
    },
    {
      "cell_type": "markdown",
      "metadata": {},
      "source": [
        "## Random Two Player Game "
      ]
    },
    {
      "cell_type": "code",
      "execution_count": 758,
      "metadata": {
        "id": "x7uaXymmit5c"
      },
      "outputs": [],
      "source": [
        "# Setup the amount in each pile\n",
        "piles = [10,14,18]"
      ]
    },
    {
      "cell_type": "code",
      "execution_count": 759,
      "metadata": {
        "colab": {
          "base_uri": "https://localhost:8080/"
        },
        "id": "FZjcG3hki5ug",
        "outputId": "13f0cad3-3257-44d8-dffa-2ba8ed7a5a89"
      },
      "outputs": [
        {
          "name": "stdout",
          "output_type": "stream",
          "text": [
            "Player 1: takes 5 from pile 2\n",
            "The current state is: [10, 9, 18]\n",
            "Player 2: takes 9 from pile 3\n",
            "The current state is: [10, 9, 9]\n",
            "Player 1: takes 6 from pile 1\n",
            "The current state is: [4, 9, 9]\n",
            "Player 2: takes 9 from pile 3\n",
            "The current state is: [4, 9, 0]\n",
            "Player 1: takes 2 from pile 2\n",
            "The current state is: [4, 7, 0]\n",
            "Player 2: takes 4 from pile 1\n",
            "The current state is: [0, 7, 0]\n",
            "Player 1: takes 7 from pile 2\n",
            "The current state is: [0, 0, 0]\n",
            "Player 1 Wins!\n"
          ]
        }
      ],
      "source": [
        "# random approach\n",
        "\n",
        "while True:\n",
        "\n",
        "  selectable1 = False\n",
        "  selectable2 = False\n",
        "\n",
        "\n",
        "  # Player 1's Turn\n",
        "\n",
        "  # Check to see if there is one remaing pile at the end of Player 1's Turn\n",
        "  if piles.count(0) == 2:\n",
        "    player1 = piles.index(max(piles)) + 1\n",
        "    amount1 = max(piles)\n",
        "\n",
        "  else:\n",
        "    while selectable1 == False:\n",
        "      player1 = r.randint(1,3)\n",
        "\n",
        "      if piles[player1-1] != 0:\n",
        "        selectable1 = True\n",
        "    amount1 = r.randint(1,piles[player1 - 1])\n",
        "\n",
        "  piles[player1 - 1] = piles[player1 - 1] - amount1\n",
        "  \n",
        "  # Display Player 1's actions and resulting game state\n",
        "  print(\"Player 1: takes \" + str(amount1) + \" from pile \" + str(player1))\n",
        "  print(\"The current state is: \" + str(piles))\n",
        "  \n",
        "  # Check if Player 1 wins by end of their turn\n",
        "  if sum(piles) == 0:\n",
        "    print(\"Player 1 Wins!\")\n",
        "    break\n",
        "\n",
        "  # Player 2's Turn\n",
        "\n",
        "  # Check to see if there is one remaing pile at the beginning of Player 2's turn\n",
        "  if piles.count(0) == 2:\n",
        "    player2 = piles.index(max(piles)) + 1\n",
        "    amount2 = max(piles)\n",
        "  else:\n",
        "    while selectable2 == False:\n",
        "      player2 = r.randint(1,3)\n",
        "\n",
        "      if piles[player2-1] != 0:\n",
        "        selectable2 = True\n",
        "    amount2 = r.randint(1,piles[player2 - 1])\n",
        "  piles[player2 - 1] = piles[player2 - 1] - amount2\n",
        "\n",
        "  # Display Player 2's actions and resulting game state\n",
        "  print(\"Player 2: takes \" + str(amount2) + \" from pile \" + str(player2))\n",
        "  print(\"The current state is: \" + str(piles))\n",
        "\n",
        "  # Check if Player 2 wins by end of their turn\n",
        "  if sum(piles) == 0:\n",
        "    print(\"Player 2 Wins!\")\n",
        "    break"
      ]
    },
    {
      "cell_type": "markdown",
      "metadata": {},
      "source": [
        "## AI Approach\n",
        "Here we will use a *Minimax* algorithm to evaluate all the possible board states from a given present board state, then the AI will chose the next board state with the best return."
      ]
    },
    {
      "cell_type": "code",
      "execution_count": 760,
      "metadata": {},
      "outputs": [],
      "source": [
        "# enumerate over all possible actions at current board state\n",
        "def actions(s):\n",
        "    return [(i,j) for j in range(len(s)) if s[j] != 0 for i in range(1,s[j]+1)]"
      ]
    },
    {
      "cell_type": "code",
      "execution_count": 761,
      "metadata": {},
      "outputs": [],
      "source": [
        "# apply chosen action on current board state\n",
        "def result(s,a):\n",
        "\n",
        "    # get action pile and amount\n",
        "    pile = a[1]\n",
        "    amount = a[0]\n",
        "\n",
        "    # apply action and return resulting board state\n",
        "    s_copy = s.copy()\n",
        "    s_copy[pile] = s_copy[pile] - (amount)\n",
        "    \n",
        "    return s_copy\n",
        "    "
      ]
    },
    {
      "cell_type": "code",
      "execution_count": 762,
      "metadata": {},
      "outputs": [],
      "source": [
        "# check if there is a winner (is checked at end of turn)\n",
        "def checkWinner(s,turn):\n",
        "    # check if game is ongoing\n",
        "    if sum(s) != 0:\n",
        "        return None\n",
        "\n",
        "    # assume AI goes first\n",
        "\n",
        "    # case that human wins\n",
        "    elif turn % 2 == 0:\n",
        "        return -1\n",
        "    \n",
        "    # case that AI wins\n",
        "    else:\n",
        "        return 1\n"
      ]
    },
    {
      "cell_type": "code",
      "execution_count": 763,
      "metadata": {},
      "outputs": [],
      "source": [
        "# implement Minimax algorithm\n",
        "def minimax(s, turn, isMaxamizing):\n",
        "\n",
        "    s_copy = s.copy()\n",
        "    moves = actions(s_copy)\n",
        "\n",
        "    if turn != 1:\n",
        "        prevTurn = turn - 1\n",
        "    \n",
        "    else:\n",
        "        prevTurn = 1\n",
        "    # base case\n",
        "    if checkWinner(s, prevTurn) != None:\n",
        "        return checkWinner(s,prevTurn)\n",
        "    \n",
        "    # recursive case\n",
        "\n",
        "    # maximizing case\n",
        "    elif(isMaxamizing):\n",
        "        score = -np.inf\n",
        "        for move in moves:\n",
        "            resulting = result(s_copy, move)\n",
        "            score = max(score, minimax(resulting, turn+1,False))\n",
        "            \n",
        "        return score\n",
        "    \n",
        "    # minimizing case\n",
        "    else:\n",
        "        score = np.inf\n",
        "        for move in moves:\n",
        "            resulting = result(s_copy,move)\n",
        "            score = min(score, minimax(resulting, turn+1, True))\n",
        "\n",
        "        return score\n"
      ]
    },
    {
      "cell_type": "code",
      "execution_count": 764,
      "metadata": {},
      "outputs": [
        {
          "name": "stdout",
          "output_type": "stream",
          "text": [
            "[5, 5, 5]\n",
            "AI takes 5 from 3\n",
            "[5, 5, 0]\n",
            "[2, 5, 0]\n",
            "AI takes 3 from 2\n",
            "[2, 2, 0]\n",
            "[1, 2, 0]\n",
            "AI takes 1 from 2\n",
            "[1, 1, 0]\n",
            "[0, 1, 0]\n",
            "AI takes 1 from 2\n",
            "[0, 0, 0]\n",
            "AI wins!\n"
          ]
        }
      ],
      "source": [
        "# play the game of nim\n",
        "s = [5,5,5]\n",
        "turn = 1\n",
        "print(s)\n",
        "while checkWinner(s, turn) == None:\n",
        "\n",
        "    # AI goes first\n",
        "    moves = actions(s)\n",
        "    score = 1 # TODO: Figure out why score must be 1 and fails otherwise?\n",
        "    bestMove = None\n",
        "    resulting = 0\n",
        "    for move in moves:\n",
        "        test = result(s, move)\n",
        "        #print(test)\n",
        "        resulting = minimax(test,turn, True)\n",
        "        #print(resulting)\n",
        "        if resulting < score: # TODO: why is the minimax algo off by one player turn?\n",
        "            bestMove = move\n",
        "\n",
        "    print(\"AI takes \" + str(bestMove[0]) + \" from \" + str(bestMove[1] + 1))\n",
        "    s = result(s, bestMove)\n",
        "    print(s)\n",
        "\n",
        "    if checkWinner(s, turn) == 1:\n",
        "        print(\"AI wins!\")\n",
        "        break\n",
        "    \n",
        "    turn += 1\n",
        "    # Person goes second\n",
        "    pile = int(input(\"Please enter the pile: \"))\n",
        "    amount = int(input(\"Please enter the amount: \"))\n",
        "\n",
        "    s = result(s,(amount,pile-1))\n",
        "\n",
        "    print(s)\n",
        "    if checkWinner(s, turn) == -1:\n",
        "        print(\"You win!\")\n",
        "        break\n",
        "\n",
        "    turn += 1"
      ]
    }
  ],
  "metadata": {
    "colab": {
      "provenance": []
    },
    "kernelspec": {
      "display_name": "Python 3.10.11 64-bit",
      "language": "python",
      "name": "python3"
    },
    "language_info": {
      "codemirror_mode": {
        "name": "ipython",
        "version": 3
      },
      "file_extension": ".py",
      "mimetype": "text/x-python",
      "name": "python",
      "nbconvert_exporter": "python",
      "pygments_lexer": "ipython3",
      "version": "3.10.11"
    },
    "vscode": {
      "interpreter": {
        "hash": "bd385fe162c5ca0c84973b7dd5c518456272446b2b64e67c2a69f949ca7a1754"
      }
    }
  },
  "nbformat": 4,
  "nbformat_minor": 0
}
