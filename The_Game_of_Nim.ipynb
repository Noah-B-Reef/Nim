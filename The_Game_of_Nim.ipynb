{
  "cells": [
    {
      "cell_type": "code",
      "execution_count": 13,
      "metadata": {
        "id": "0a8cZmk0jAvd"
      },
      "outputs": [],
      "source": [
        "# import required libraries\n",
        "import random as r\n",
        "from collections import Counter"
      ]
    },
    {
      "cell_type": "code",
      "execution_count": 10,
      "metadata": {
        "id": "x7uaXymmit5c"
      },
      "outputs": [],
      "source": [
        "# Setup the amount in each pile\n",
        "piles = [10,14,18]"
      ]
    },
    {
      "cell_type": "code",
      "execution_count": 11,
      "metadata": {
        "colab": {
          "base_uri": "https://localhost:8080/"
        },
        "id": "FZjcG3hki5ug",
        "outputId": "13f0cad3-3257-44d8-dffa-2ba8ed7a5a89"
      },
      "outputs": [
        {
          "name": "stdout",
          "output_type": "stream",
          "text": [
            "Player 1: takes 18 from pile 3\n",
            "The current state is: [10, 14, 0]\n",
            "Player 2: takes 1 from pile 1\n",
            "The current state is: [9, 14, 0]\n",
            "Player 1: takes 9 from pile 1\n",
            "The current state is: [0, 14, 0]\n",
            "Player 2: takes 14 from pile 2\n",
            "The current state is: [0, 0, 0]\n",
            "Player 2 Wins!\n"
          ]
        }
      ],
      "source": [
        "# random approach\n",
        "\n",
        "while True:\n",
        "\n",
        "  selectable1 = False\n",
        "  selectable2 = False\n",
        "\n",
        "\n",
        "  # Player 1's Turn\n",
        "\n",
        "  # Check to see if there is one remaing pile at the end of Player 1's Turn\n",
        "  if piles.count(0) == 2:\n",
        "    player1 = piles.index(max(piles)) + 1\n",
        "    amount1 = max(piles)\n",
        "\n",
        "  else:\n",
        "    while selectable1 == False:\n",
        "      player1 = r.randint(1,3)\n",
        "\n",
        "      if piles[player1-1] != 0:\n",
        "        selectable1 = True\n",
        "    amount1 = r.randint(1,piles[player1 - 1])\n",
        "\n",
        "  piles[player1 - 1] = piles[player1 - 1] - amount1\n",
        "  \n",
        "  # Display Player 1's actions and resulting game state\n",
        "  print(\"Player 1: takes \" + str(amount1) + \" from pile \" + str(player1))\n",
        "  print(\"The current state is: \" + str(piles))\n",
        "  \n",
        "  # Check if Player 1 wins by end of their turn\n",
        "  if sum(piles) == 0:\n",
        "    print(\"Player 1 Wins!\")\n",
        "    break\n",
        "\n",
        "  # Player 2's Turn\n",
        "\n",
        "  # Check to see if there is one remaing pile at the beginning of Player 2's turn\n",
        "  if piles.count(0) == 2:\n",
        "    player2 = piles.index(max(piles)) + 1\n",
        "    amount2 = max(piles)\n",
        "  else:\n",
        "    while selectable2 == False:\n",
        "      player2 = r.randint(1,3)\n",
        "\n",
        "      if piles[player2-1] != 0:\n",
        "        selectable2 = True\n",
        "    amount2 = r.randint(1,piles[player2 - 1])\n",
        "  piles[player2 - 1] = piles[player2 - 1] - amount2\n",
        "\n",
        "  # Display Player 2's actions and resulting game state\n",
        "  print(\"Player 2: takes \" + str(amount2) + \" from pile \" + str(player2))\n",
        "  print(\"The current state is: \" + str(piles))\n",
        "\n",
        "  # Check if Player 2 wins by end of their turn\n",
        "  if sum(piles) == 0:\n",
        "    print(\"Player 2 Wins!\")\n",
        "    break"
      ]
    },
    {
      "cell_type": "code",
      "execution_count": 20,
      "metadata": {
        "id": "0G4BjvWmi8gu"
      },
      "outputs": [],
      "source": [
        "# AI approach\n",
        "\n",
        "# Board State\n",
        "piles = [3, 3, 3]\n"
      ]
    },
    {
      "cell_type": "code",
      "execution_count": 25,
      "metadata": {},
      "outputs": [],
      "source": [
        "# Entumerate all possible actions for player\n",
        "def actions(s):\n",
        "    return [(i,j) for j in range(len(piles)) if piles[j] != 0 for i in range(1,piles[j]+1)]"
      ]
    },
    {
      "cell_type": "code",
      "execution_count": null,
      "metadata": {},
      "outputs": [],
      "source": [
        "# Update Board State\n",
        "def update(s,a):\n",
        "    (amout, pile) = a\n",
        "    s_copy = s.copy()\n",
        "    "
      ]
    },
    {
      "cell_type": "code",
      "execution_count": null,
      "metadata": {},
      "outputs": [],
      "source": []
    },
    {
      "cell_type": "code",
      "execution_count": 26,
      "metadata": {},
      "outputs": [
        {
          "data": {
            "text/plain": [
              "[(1, 0), (2, 0), (3, 0), (1, 1), (2, 1), (3, 1), (1, 2), (2, 2), (3, 2)]"
            ]
          },
          "execution_count": 26,
          "metadata": {},
          "output_type": "execute_result"
        }
      ],
      "source": [
        "actions(piles)"
      ]
    }
  ],
  "metadata": {
    "colab": {
      "provenance": []
    },
    "kernelspec": {
      "display_name": "Python 3.10.11 64-bit",
      "language": "python",
      "name": "python3"
    },
    "language_info": {
      "codemirror_mode": {
        "name": "ipython",
        "version": 3
      },
      "file_extension": ".py",
      "mimetype": "text/x-python",
      "name": "python",
      "nbconvert_exporter": "python",
      "pygments_lexer": "ipython3",
      "version": "3.10.11"
    },
    "vscode": {
      "interpreter": {
        "hash": "bd385fe162c5ca0c84973b7dd5c518456272446b2b64e67c2a69f949ca7a1754"
      }
    }
  },
  "nbformat": 4,
  "nbformat_minor": 0
}
